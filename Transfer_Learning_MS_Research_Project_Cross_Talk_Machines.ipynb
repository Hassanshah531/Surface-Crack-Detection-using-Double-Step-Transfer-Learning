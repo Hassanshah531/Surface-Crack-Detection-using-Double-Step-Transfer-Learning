{
  "nbformat": 4,
  "nbformat_minor": 0,
  "metadata": {
    "colab": {
      "name": "Transfer_Learning_MS_Research_Project_Cross_Talk_Machines.ipynb",
      "provenance": [],
      "collapsed_sections": []
    },
    "kernelspec": {
      "name": "python3",
      "display_name": "Python 3"
    },
    "language_info": {
      "name": "python"
    },
    "gpuClass": "standard"
  },
  "cells": [
    {
      "cell_type": "code",
      "source": [
        "from google.colab import drive\n",
        "drive.mount('/content/drive')"
      ],
      "metadata": {
        "colab": {
          "base_uri": "https://localhost:8080/"
        },
        "id": "tjacHvTTBKie",
        "outputId": "cb83daea-0e52-456a-f34b-41085f5dacad"
      },
      "execution_count": null,
      "outputs": [
        {
          "output_type": "stream",
          "name": "stdout",
          "text": [
            "Mounted at /content/drive\n"
          ]
        }
      ]
    },
    {
      "cell_type": "code",
      "source": [
        "import tensorflow as tf\n",
        "from tensorflow import keras\n",
        "import numpy as numpy\n",
        "import cv2\n",
        "import random\n",
        "import pandas as pd\n",
        "import numpy as np\n",
        "import os\n",
        "import seaborn as sns\n",
        "import warnings\n",
        "import matplotlib.pyplot as plt\n",
        "warnings.filterwarnings('ignore')\n",
        "from tensorflow.keras.utils import plot_model\n",
        "from sklearn.model_selection import train_test_split"
      ],
      "metadata": {
        "id": "rjmSk7oqkfWE"
      },
      "execution_count": null,
      "outputs": []
    },
    {
      "cell_type": "code",
      "source": [
        "import zipfile\n",
        "with zipfile.ZipFile(\"/content/drive/MyDrive/Crack detection/dataset.zip\",\"r\") as zip_ref:\n",
        "    zip_ref.extractall(\"/content/drive/MyDrive/Crack detection\")"
      ],
      "metadata": {
        "id": "bXC77SOTYQG1"
      },
      "execution_count": null,
      "outputs": []
    },
    {
      "cell_type": "markdown",
      "source": [
        "0 For positive and 1 For negative"
      ],
      "metadata": {
        "id": "sw7Cc9dhegnA"
      }
    },
    {
      "cell_type": "code",
      "source": [
        "DATA=[]\n",
        "for i,label in enumerate(['/content/drive/MyDrive/Crack detection/Positive','/content/drive/MyDrive/Crack detection/Negative']):\n",
        "    for image in os.listdir(label)[:8000]:\n",
        "            path=label+'/'+image\n",
        "            image=cv2.imread(path)\n",
        "            image=cv2.resize(image,(32,32))\n",
        "            DATA.append((image,i))\n",
        "DATA=np.array(DATA)\n",
        "random.shuffle(DATA)"
      ],
      "metadata": {
        "id": "Heare8HflB3g"
      },
      "execution_count": null,
      "outputs": []
    },
    {
      "cell_type": "code",
      "source": [
        "DATA[:,1]"
      ],
      "metadata": {
        "colab": {
          "base_uri": "https://localhost:8080/"
        },
        "id": "R8UubSiIeEun",
        "outputId": "5d954510-25f5-461a-fd9a-2f704ab4b7f2"
      },
      "execution_count": null,
      "outputs": [
        {
          "output_type": "execute_result",
          "data": {
            "text/plain": [
              "array([0, 0, 0, ..., 1, 1, 1], dtype=object)"
            ]
          },
          "metadata": {},
          "execution_count": 5
        }
      ]
    },
    {
      "cell_type": "code",
      "source": [
        "Images=DATA[:,0]\n",
        "Labels=DATA[:,1]\n",
        "IMAGES=np.array([image for image in Images])\n",
        "IMAGES.shape"
      ],
      "metadata": {
        "colab": {
          "base_uri": "https://localhost:8080/"
        },
        "id": "_L_vycKidH1D",
        "outputId": "2caa19f1-d9cd-413a-c040-d1a337a23c71"
      },
      "execution_count": null,
      "outputs": [
        {
          "output_type": "execute_result",
          "data": {
            "text/plain": [
              "(16000, 32, 32, 3)"
            ]
          },
          "metadata": {},
          "execution_count": 6
        }
      ]
    },
    {
      "cell_type": "code",
      "source": [
        "plt.imshow(IMAGES[0])"
      ],
      "metadata": {
        "colab": {
          "base_uri": "https://localhost:8080/",
          "height": 283
        },
        "id": "uQnKn7ncddrC",
        "outputId": "e94b3fa3-2fab-4d20-d7e2-fc6990d1dd84"
      },
      "execution_count": null,
      "outputs": [
        {
          "output_type": "execute_result",
          "data": {
            "text/plain": [
              "<matplotlib.image.AxesImage at 0x7f34ff4a4310>"
            ]
          },
          "metadata": {},
          "execution_count": 7
        },
        {
          "output_type": "display_data",
          "data": {
            "text/plain": [
              "<Figure size 432x288 with 1 Axes>"
            ],
            "image/png": "[encoded data removed]"
          },
          "metadata": {
            "needs_background": "light"
          }
        }
      ]
    },
    {
      "cell_type": "code",
      "source": [
        "x_train,x_test,y_train,y_test=train_test_split(IMAGES,Labels,test_size=0.2)"
      ],
      "metadata": {
        "id": "pONuJIAmdIFx"
      },
      "execution_count": null,
      "outputs": []
    },
    {
      "cell_type": "code",
      "source": [
        "pd.Series(y_train).value_counts()"
      ],
      "metadata": {
        "colab": {
          "base_uri": "https://localhost:8080/"
        },
        "id": "uvzdQ8a_dnns",
        "outputId": "24eb2a17-ed41-4463-f0c4-4b303671e0a5"
      },
      "execution_count": null,
      "outputs": [
        {
          "output_type": "execute_result",
          "data": {
            "text/plain": [
              "0    10853\n",
              "1     1947\n",
              "dtype: int64"
            ]
          },
          "metadata": {},
          "execution_count": 9
        }
      ]
    },
    {
      "cell_type": "code",
      "source": [
        "pd.Series(y_test).value_counts()"
      ],
      "metadata": {
        "colab": {
          "base_uri": "https://localhost:8080/"
        },
        "id": "G-rs0JrLdn2N",
        "outputId": "c3533f5a-ce2f-4d64-a5c3-ee7b4664f5d2"
      },
      "execution_count": null,
      "outputs": [
        {
          "output_type": "execute_result",
          "data": {
            "text/plain": [
              "0    2668\n",
              "1     532\n",
              "dtype: int64"
            ]
          },
          "metadata": {},
          "execution_count": 10
        }
      ]
    },
    {
      "cell_type": "code",
      "source": [
        "Rescaled_x_train=x_train/255.0\n",
        "Rescaled__x_test=x_test/255.0"
      ],
      "metadata": {
        "id": "SE_gi71Xdr7s"
      },
      "execution_count": null,
      "outputs": []
    },
    {
      "cell_type": "code",
      "source": [
        "type(Rescaled_x_train)"
      ],
      "metadata": {
        "colab": {
          "base_uri": "https://localhost:8080/"
        },
        "id": "uMFmj7P5pkeB",
        "outputId": "fe856f70-f2e0-4b20-84bf-e0f6d9e41c11"
      },
      "execution_count": null,
      "outputs": [
        {
          "output_type": "execute_result",
          "data": {
            "text/plain": [
              "numpy.ndarray"
            ]
          },
          "metadata": {},
          "execution_count": 12
        }
      ]
    },
    {
      "cell_type": "code",
      "source": [
        "X = np.asarray(Rescaled_x_train).astype(np.float32)\n",
        "x_test= np.asarray(Rescaled__x_test).astype(np.float32)\n",
        "Y=np.asarray(y_train).astype(np.float32)\n",
        "y_test=np.asarray(y_test).astype(np.float32)"
      ],
      "metadata": {
        "id": "3ho3pBIfl5a-"
      },
      "execution_count": null,
      "outputs": []
    },
    {
      "cell_type": "code",
      "source": [
        "plt.imshow(Rescaled_x_train[0])"
      ],
      "metadata": {
        "colab": {
          "base_uri": "https://localhost:8080/",
          "height": 283
        },
        "id": "f6pZk34jkZs3",
        "outputId": "b44f093a-2980-4d46-8f5f-6eb821f62583"
      },
      "execution_count": null,
      "outputs": [
        {
          "output_type": "execute_result",
          "data": {
            "text/plain": [
              "<matplotlib.image.AxesImage at 0x7f34ff386ad0>"
            ]
          },
          "metadata": {},
          "execution_count": 14
        },
        {
          "output_type": "display_data",
          "data": {
            "text/plain": [
              "<Figure size 432x288 with 1 Axes>"
            ],
            "image/png": "[encoded data removed]"
          },
          "metadata": {
            "needs_background": "light"
          }
        }
      ]
    },
    {
      "cell_type": "markdown",
      "source": [
        "#Second Dataset"
      ],
      "metadata": {
        "id": "t7lx3UkqdY7q"
      }
    },
    {
      "cell_type": "code",
      "source": [
        "import os\n",
        "os.makedirs('/content/drive/MyDrive/Crack detection/crack_Dataset_2')"
      ],
      "metadata": {
        "id": "WPhUmwwvIgW3"
      },
      "execution_count": null,
      "outputs": []
    },
    {
      "cell_type": "code",
      "source": [
        "import zipfile\n",
        "with zipfile.ZipFile(\"/content/drive/MyDrive/SDNET2018.zip\",\"r\") as zip_ref:\n",
        "    zip_ref.extractall(\"/content/drive/MyDrive/Crack detection/crack_Dataset_2\")"
      ],
      "metadata": {
        "id": "6tRLxA4q0q_v"
      },
      "execution_count": null,
      "outputs": []
    },
    {
      "cell_type": "code",
      "source": [
        "def GET_Double_step_data(path_1,path_2):\n",
        "  DATA_2=[]\n",
        "  for i,label in enumerate([path_1,path_2]):\n",
        "    for image in os.listdir(label)[:2000]:\n",
        "      path=label+'/'+image\n",
        "      image=cv2.imread(path)\n",
        "      image=cv2.resize(image,(32,32))\n",
        "      DATA_2.append((image,i))\n",
        "  return np.array(DATA_2)"
      ],
      "metadata": {
        "id": "sPwTLQT28xBe"
      },
      "execution_count": null,
      "outputs": []
    },
    {
      "cell_type": "code",
      "source": [
        "from sklearn.utils import shuffle\n",
        "D_data=GET_Double_step_data('/content/drive/MyDrive/Crack detection/crack_Dataset_2/D/CD','/content/drive/MyDrive/Crack detection/crack_Dataset_2/D/UD')\n",
        "D_data=shuffle(D_data)\n",
        "P_data=GET_Double_step_data('/content/drive/MyDrive/Crack detection/crack_Dataset_2/P/CP','/content/drive/MyDrive/Crack detection/crack_Dataset_2/P/UP')\n",
        "P_data=shuffle(P_data)\n",
        "W_data=GET_Double_step_data('/content/drive/MyDrive/Crack detection/crack_Dataset_2/W/CW','/content/drive/MyDrive/Crack detection/crack_Dataset_2/W/UW')\n",
        "W_data=shuffle(W_data)\n"
      ],
      "metadata": {
        "id": "lyuNyq-E_lvJ"
      },
      "execution_count": null,
      "outputs": []
    },
    {
      "cell_type": "code",
      "source": [
        "D_data_images=D_data[:,0]\n",
        "D_data_labels=D_data[:,1]\n",
        "P_data_images=P_data[:,0]\n",
        "P_data_labels=P_data[:,1]\n",
        "W_data_images=W_data[:,0]\n",
        "W_data_labels=W_data[:,1]\n",
        "D_data_images=np.array([image for image in D_data_images])\n",
        "P_data_images=np.array([image for image in P_data_images])\n",
        "W_data_images=np.array([image for image in W_data_images])\n",
        "D_data_images.shape,P_data_images.shape,W_data_images.shape"
      ],
      "metadata": {
        "colab": {
          "base_uri": "https://localhost:8080/"
        },
        "id": "iRUoeVV882jR",
        "outputId": "4fecb411-5e0e-4529-a16e-94e8c224c8d3"
      },
      "execution_count": null,
      "outputs": [
        {
          "output_type": "execute_result",
          "data": {
            "text/plain": [
              "((4000, 32, 32, 3), (4000, 32, 32, 3), (4000, 32, 32, 3))"
            ]
          },
          "metadata": {},
          "execution_count": 17
        }
      ]
    },
    {
      "cell_type": "code",
      "source": [
        "d=pd.DataFrame({'images':list(D_data_images)})\n",
        "p=pd.DataFrame({'images':list(P_data_images)})\n",
        "w=pd.DataFrame({'images':list(W_data_images)})\n",
        "d_label=pd.DataFrame({'LABELS':list(D_data_labels)})\n",
        "p_label=pd.DataFrame({'LABELS':list(P_data_labels)})\n",
        "w_label=pd.DataFrame({'LABELS':list(W_data_labels)})"
      ],
      "metadata": {
        "id": "QSze9XjkDHcn"
      },
      "execution_count": null,
      "outputs": []
    },
    {
      "cell_type": "code",
      "source": [
        "ALL_IMAGES=pd.concat([d,p,w])\n",
        "ALL_LABELS=pd.concat([d_label,p_label,w_label])"
      ],
      "metadata": {
        "id": "4KaM5sudJtBg"
      },
      "execution_count": null,
      "outputs": []
    },
    {
      "cell_type": "code",
      "source": [
        "ALL_IMAGES=np.array([ i for i in ALL_IMAGES['images'].values])"
      ],
      "metadata": {
        "id": "tjUGsZKaKAa5"
      },
      "execution_count": null,
      "outputs": []
    },
    {
      "cell_type": "code",
      "source": [
        "ALL_LABELS=np.array(ALL_LABELS)\n",
        "ALL_LABELS.shape"
      ],
      "metadata": {
        "colab": {
          "base_uri": "https://localhost:8080/"
        },
        "id": "oO8In8ewKbX1",
        "outputId": "4510bcff-f525-49c5-bad4-b83fff1a2be8"
      },
      "execution_count": null,
      "outputs": [
        {
          "output_type": "execute_result",
          "data": {
            "text/plain": [
              "(12000, 1)"
            ]
          },
          "metadata": {},
          "execution_count": 21
        }
      ]
    },
    {
      "cell_type": "code",
      "source": [
        "ALL_LABELS"
      ],
      "metadata": {
        "colab": {
          "base_uri": "https://localhost:8080/"
        },
        "id": "ExF6bKOcKixp",
        "outputId": "7e4553e0-20a1-4e3c-b459-936b967c5b79"
      },
      "execution_count": null,
      "outputs": [
        {
          "output_type": "execute_result",
          "data": {
            "text/plain": [
              "array([[1],\n",
              "       [0],\n",
              "       [0],\n",
              "       ...,\n",
              "       [1],\n",
              "       [1],\n",
              "       [0]])"
            ]
          },
          "metadata": {},
          "execution_count": 22
        }
      ]
    },
    {
      "cell_type": "code",
      "source": [
        "plt.imshow(ALL_IMAGES[35])"
      ],
      "metadata": {
        "colab": {
          "base_uri": "https://localhost:8080/",
          "height": 283
        },
        "id": "3HI7ZbjdKlBv",
        "outputId": "95d5bbe7-4ea9-4e3f-adb1-f9f376c65d3d"
      },
      "execution_count": null,
      "outputs": [
        {
          "output_type": "execute_result",
          "data": {
            "text/plain": [
              "<matplotlib.image.AxesImage at 0x7f34fecc8790>"
            ]
          },
          "metadata": {},
          "execution_count": 23
        },
        {
          "output_type": "display_data",
          "data": {
            "text/plain": [
              "<Figure size 432x288 with 1 Axes>"
            ],
            "image/png": "[encoded data removed]"
          },
          "metadata": {
            "needs_background": "light"
          }
        }
      ]
    },
    {
      "cell_type": "code",
      "source": [
        "ALL_LABELS[35]"
      ],
      "metadata": {
        "colab": {
          "base_uri": "https://localhost:8080/"
        },
        "id": "ohnCiwbqK5Yp",
        "outputId": "540eedf4-c9d4-479c-a0d3-10192213dde1"
      },
      "execution_count": null,
      "outputs": [
        {
          "output_type": "execute_result",
          "data": {
            "text/plain": [
              "array([1])"
            ]
          },
          "metadata": {},
          "execution_count": 24
        }
      ]
    },
    {
      "cell_type": "code",
      "source": [
        "x_train_2,x_test_2,y_train_2,y_test_2=train_test_split(ALL_IMAGES,ALL_LABELS,test_size=0.2)"
      ],
      "metadata": {
        "id": "iihp_AMaLHAw"
      },
      "execution_count": null,
      "outputs": []
    },
    {
      "cell_type": "code",
      "source": [
        "scaled_x_train_2=x_train_2/255.0\n",
        "scaled_x_test_2=x_test_2/255.0"
      ],
      "metadata": {
        "id": "RSOHsew9LgZx"
      },
      "execution_count": null,
      "outputs": []
    },
    {
      "cell_type": "code",
      "source": [
        "y_train_2=np.asarray(y_train_2).astype(np.float32)\n",
        "y_test_2=np.asarray(y_test_2).astype(np.float32)"
      ],
      "metadata": {
        "id": "NaHdN-k-LR5Q"
      },
      "execution_count": null,
      "outputs": []
    },
    {
      "cell_type": "code",
      "source": [
        "y_train_2.shape,y_test_2.shape"
      ],
      "metadata": {
        "colab": {
          "base_uri": "https://localhost:8080/"
        },
        "id": "bORB8eijP3PZ",
        "outputId": "0a4d6da3-1d4b-4b8a-d23b-aeffbe890fe3"
      },
      "execution_count": null,
      "outputs": [
        {
          "output_type": "execute_result",
          "data": {
            "text/plain": [
              "((9600, 1), (2400, 1))"
            ]
          },
          "metadata": {},
          "execution_count": 28
        }
      ]
    },
    {
      "cell_type": "markdown",
      "source": [
        "## First step (in Double step transfer learning)"
      ],
      "metadata": {
        "id": "RescoRhptbmB"
      }
    },
    {
      "cell_type": "code",
      "source": [
        "resnet50_model=keras.applications.resnet.ResNet50(include_top=False, \n",
        "                                                  weights='imagenet',\n",
        "                                                  input_shape=(32,32,3))"
      ],
      "metadata": {
        "id": "jQbRu64Ilmah",
        "colab": {
          "base_uri": "https://localhost:8080/"
        },
        "outputId": "206c9a01-3ec7-474f-f4e1-0937e5a86c3c"
      },
      "execution_count": null,
      "outputs": [
        {
          "output_type": "stream",
          "name": "stdout",
          "text": [
            "Downloading data from https://storage.googleapis.com/tensorflow/keras-applications/resnet/resnet50_weights_tf_dim_ordering_tf_kernels_notop.h5\n",
            "94773248/94765736 [==============================] - 1s 0us/step\n",
            "94781440/94765736 [==============================] - 1s 0us/step\n"
          ]
        }
      ]
    },
    {
      "cell_type": "code",
      "source": [
        "for layer in resnet50_model.layers:\n",
        "  layer.trainable=False"
      ],
      "metadata": {
        "id": "-Hgm6F0g6PtU"
      },
      "execution_count": null,
      "outputs": []
    },
    {
      "cell_type": "code",
      "source": [
        "flat=keras.layers.Flatten()(resnet50_model.output)\n",
        "Hidden_1=keras.layers.Dense(100,activation='relu')(flat)\n",
        "output=keras.layers.Dense(1,activation='sigmoid')(Hidden_1)\n",
        "ResNet_50_Model=keras.models.Model([resnet50_model.input],[output])"
      ],
      "metadata": {
        "id": "Dh7FmeeR6PyA"
      },
      "execution_count": null,
      "outputs": []
    },
    {
      "cell_type": "code",
      "source": [
        "ResNet_50_Model.compile(optimizer=keras.optimizers.Adam(learning_rate=0.001),\n",
        "              loss='binary_crossentropy',metrics=['Accuracy'])\n",
        "hist=ResNet_50_Model.fit(scaled_x_train_2,y_train_2,epochs=20)"
      ],
      "metadata": {
        "id": "cNEgQiGCudZh",
        "colab": {
          "base_uri": "https://localhost:8080/"
        },
        "outputId": "a1e3a1f1-28f8-461e-8b07-324a593ddc71"
      },
      "execution_count": null,
      "outputs": [
        {
          "output_type": "stream",
          "name": "stdout",
          "text": [
            "Epoch 1/20\n",
            "300/300 [==============================] - 46s 138ms/step - loss: 0.7408 - Accuracy: 0.5010\n",
            "Epoch 2/20\n",
            "300/300 [==============================] - 44s 148ms/step - loss: 0.7116 - Accuracy: 0.5196\n",
            "Epoch 3/20\n",
            "300/300 [==============================] - 41s 137ms/step - loss: 0.6978 - Accuracy: 0.5251\n",
            "Epoch 4/20\n",
            "300/300 [==============================] - 44s 145ms/step - loss: 0.7092 - Accuracy: 0.5232\n",
            "Epoch 5/20\n",
            "300/300 [==============================] - 46s 153ms/step - loss: 0.7069 - Accuracy: 0.5209\n",
            "Epoch 6/20\n",
            "300/300 [==============================] - 42s 140ms/step - loss: 0.6951 - Accuracy: 0.5217\n",
            "Epoch 7/20\n",
            "300/300 [==============================] - 42s 141ms/step - loss: 0.6942 - Accuracy: 0.5267\n",
            "Epoch 8/20\n",
            "300/300 [==============================] - 51s 171ms/step - loss: 0.6922 - Accuracy: 0.5230\n",
            "Epoch 9/20\n",
            "300/300 [==============================] - 56s 186ms/step - loss: 0.6895 - Accuracy: 0.5336\n",
            "Epoch 10/20\n",
            "300/300 [==============================] - 41s 138ms/step - loss: 0.6896 - Accuracy: 0.5350\n",
            "Epoch 11/20\n",
            "300/300 [==============================] - 43s 142ms/step - loss: 0.6873 - Accuracy: 0.5375\n",
            "Epoch 12/20\n",
            "300/300 [==============================] - 41s 137ms/step - loss: 0.6883 - Accuracy: 0.5372\n",
            "Epoch 13/20\n",
            "300/300 [==============================] - 44s 146ms/step - loss: 0.6867 - Accuracy: 0.5311\n",
            "Epoch 14/20\n",
            "300/300 [==============================] - 42s 140ms/step - loss: 0.6882 - Accuracy: 0.5324\n",
            "Epoch 15/20\n",
            "300/300 [==============================] - 43s 145ms/step - loss: 0.6871 - Accuracy: 0.5348\n",
            "Epoch 16/20\n",
            "300/300 [==============================] - 45s 151ms/step - loss: 0.6865 - Accuracy: 0.5342\n",
            "Epoch 17/20\n",
            "300/300 [==============================] - 43s 143ms/step - loss: 0.6889 - Accuracy: 0.5292\n",
            "Epoch 18/20\n",
            "300/300 [==============================] - 45s 152ms/step - loss: 0.6856 - Accuracy: 0.5389\n",
            "Epoch 19/20\n",
            "300/300 [==============================] - 41s 136ms/step - loss: 0.6873 - Accuracy: 0.5350\n",
            "Epoch 20/20\n",
            "300/300 [==============================] - 41s 137ms/step - loss: 0.6845 - Accuracy: 0.5432\n"
          ]
        }
      ]
    },
    {
      "cell_type": "code",
      "source": [
        "ResNet_50_Model.evaluate(x_test_2,y_test_2)"
      ],
      "metadata": {
        "colab": {
          "base_uri": "https://localhost:8080/"
        },
        "id": "t-lP5qeJuJAK",
        "outputId": "bfdec6e7-9853-4562-c431-b1244435a9bc"
      },
      "execution_count": null,
      "outputs": [
        {
          "output_type": "stream",
          "name": "stdout",
          "text": [
            "75/75 [==============================] - 11s 137ms/step - loss: 0.9721 - Accuracy: 0.5104\n"
          ]
        },
        {
          "output_type": "execute_result",
          "data": {
            "text/plain": [
              "[0.9721318483352661, 0.5104166865348816]"
            ]
          },
          "metadata": {},
          "execution_count": 33
        }
      ]
    },
    {
      "cell_type": "markdown",
      "source": [
        "## Second Step (in Double step transfer learning)"
      ],
      "metadata": {
        "id": "h4oJLAnJtU7O"
      }
    },
    {
      "cell_type": "code",
      "source": [
        "for layer in ResNet_50_Model.layers:\n",
        "  layer.trainable=False\n",
        "Hidden_1_second=keras.layers.Conv2D(16,(3,3),padding='same',activation='relu',name='double_step_features')(ResNet_50_Model.get_layer('conv5_block3_out').output)\n",
        "flat_second=keras.layers.Flatten()(Hidden_1_second)\n",
        "hidden_2_second=keras.layers.Dense(200,activation='relu')(flat_second)\n",
        "output_second=keras.layers.Dense(1,activation='sigmoid')(hidden_2_second)\n",
        "Second_Step_Model=keras.models.Model([ResNet_50_Model.input],[output_second])"
      ],
      "metadata": {
        "id": "6v5dhqlUxrFX"
      },
      "execution_count": null,
      "outputs": []
    },
    {
      "cell_type": "code",
      "source": [
        "Second_Step_Model.compile(optimizer=keras.optimizers.Adam(learning_rate=0.001),\n",
        "              loss='binary_crossentropy',metrics=['Accuracy'])\n",
        "hist_2=Second_Step_Model.fit(X,Y,epochs=20)"
      ],
      "metadata": {
        "colab": {
          "base_uri": "https://localhost:8080/"
        },
        "id": "3Ostsc82xrJT",
        "outputId": "c0829528-2b2a-455b-d0c9-abe52374ed1a"
      },
      "execution_count": null,
      "outputs": [
        {
          "output_type": "stream",
          "name": "stdout",
          "text": [
            "Epoch 1/20\n",
            "400/400 [==============================] - 61s 145ms/step - loss: 0.2340 - Accuracy: 0.9047\n",
            "Epoch 2/20\n",
            "400/400 [==============================] - 60s 149ms/step - loss: 0.1009 - Accuracy: 0.9596\n",
            "Epoch 3/20\n",
            "400/400 [==============================] - 60s 149ms/step - loss: 0.0992 - Accuracy: 0.9591\n",
            "Epoch 4/20\n",
            "400/400 [==============================] - 57s 143ms/step - loss: 0.0848 - Accuracy: 0.9669\n",
            "Epoch 5/20\n",
            "400/400 [==============================] - 58s 145ms/step - loss: 0.0900 - Accuracy: 0.9651\n",
            "Epoch 6/20\n",
            "400/400 [==============================] - 57s 143ms/step - loss: 0.0851 - Accuracy: 0.9656\n",
            "Epoch 7/20\n",
            "400/400 [==============================] - 59s 149ms/step - loss: 0.0773 - Accuracy: 0.9689\n",
            "Epoch 8/20\n",
            "400/400 [==============================] - 58s 145ms/step - loss: 0.0797 - Accuracy: 0.9701\n",
            "Epoch 9/20\n",
            "400/400 [==============================] - 57s 141ms/step - loss: 0.0769 - Accuracy: 0.9705\n",
            "Epoch 10/20\n",
            "400/400 [==============================] - 57s 143ms/step - loss: 0.0795 - Accuracy: 0.9688\n",
            "Epoch 11/20\n",
            "400/400 [==============================] - 59s 147ms/step - loss: 0.0733 - Accuracy: 0.9717\n",
            "Epoch 12/20\n",
            "400/400 [==============================] - 57s 143ms/step - loss: 0.0692 - Accuracy: 0.9727\n",
            "Epoch 13/20\n",
            "400/400 [==============================] - 57s 143ms/step - loss: 0.0775 - Accuracy: 0.9688\n",
            "Epoch 14/20\n",
            "400/400 [==============================] - 58s 146ms/step - loss: 0.0705 - Accuracy: 0.9727\n",
            "Epoch 15/20\n",
            "400/400 [==============================] - 60s 151ms/step - loss: 0.0717 - Accuracy: 0.9725\n",
            "Epoch 16/20\n",
            "400/400 [==============================] - 61s 153ms/step - loss: 0.0732 - Accuracy: 0.9725\n",
            "Epoch 17/20\n",
            "400/400 [==============================] - 68s 171ms/step - loss: 0.0685 - Accuracy: 0.9729\n",
            "Epoch 18/20\n",
            "400/400 [==============================] - 75s 188ms/step - loss: 0.0695 - Accuracy: 0.9730\n",
            "Epoch 19/20\n",
            "400/400 [==============================] - 74s 184ms/step - loss: 0.0746 - Accuracy: 0.9712\n",
            "Epoch 20/20\n",
            "400/400 [==============================] - 67s 167ms/step - loss: 0.0723 - Accuracy: 0.9709\n"
          ]
        }
      ]
    },
    {
      "cell_type": "code",
      "source": [
        "Second_Step_Model.evaluate(x_test,y_test)"
      ],
      "metadata": {
        "colab": {
          "base_uri": "https://localhost:8080/"
        },
        "id": "6thGWVQKu29t",
        "outputId": "e72ac7cc-2592-4681-c330-67087c2cddc8"
      },
      "execution_count": null,
      "outputs": [
        {
          "output_type": "stream",
          "name": "stdout",
          "text": [
            "100/100 [==============================] - 17s 160ms/step - loss: 0.0587 - Accuracy: 0.9784\n"
          ]
        },
        {
          "output_type": "execute_result",
          "data": {
            "text/plain": [
              "[0.0586642250418663, 0.9784374833106995]"
            ]
          },
          "metadata": {},
          "execution_count": 36
        }
      ]
    },
    {
      "cell_type": "markdown",
      "source": [
        "Fusion"
      ],
      "metadata": {
        "id": "zu27l38FU29U"
      }
    },
    {
      "cell_type": "code",
      "source": [
        "ResNet_50_Model.get_layer('conv5_block3_out')"
      ],
      "metadata": {
        "id": "8UrDXSg4ySRj"
      },
      "execution_count": null,
      "outputs": []
    },
    {
      "cell_type": "code",
      "source": [
        "Second_Step_Model.get_layer('conv5_block3_out')"
      ],
      "metadata": {
        "id": "vZgzi2_1yST0",
        "colab": {
          "base_uri": "https://localhost:8080/"
        },
        "outputId": "bffb4729-5f7c-4d60-caf7-b47898dc162e"
      },
      "execution_count": null,
      "outputs": [
        {
          "data": {
            "text/plain": [
              "<keras.layers.core.activation.Activation at 0x7f34fabaead0>"
            ]
          },
          "execution_count": 38,
          "metadata": {},
          "output_type": "execute_result"
        },
        {
          "output_type": "execute_result",
          "data": {
            "text/plain": [
              "<keras.layers.core.activation.Activation at 0x7f34fabaead0>"
            ]
          },
          "metadata": {},
          "execution_count": 38
        }
      ]
    },
    {
      "cell_type": "code",
      "source": [
        "ADD=keras.layers.add([ResNet_50_Model.get_layer('conv5_block3_out').output,Second_Step_Model.get_layer('conv5_block3_out').output])\n",
        "flat=keras.layers.Flatten()(ADD)\n",
        "output_=keras.layers.Dense(1,activation='sigmoid')(flat)\n",
        "ELM=keras.models.Model([resnet50_model.input],[output_])"
      ],
      "metadata": {
        "id": "TRw3LKXPySXZ"
      },
      "execution_count": null,
      "outputs": []
    },
    {
      "cell_type": "code",
      "source": [
        "from tensorflow.keras.utils import plot_model"
      ],
      "metadata": {
        "id": "T_6oeiXpY_CL"
      },
      "execution_count": null,
      "outputs": []
    },
    {
      "cell_type": "code",
      "source": [
        "plot_model(ELM)"
      ],
      "metadata": {
        "id": "9uPLgUTVY_Ft"
      },
      "execution_count": null,
      "outputs": []
    },
    {
      "cell_type": "code",
      "source": [
        "ELM.compile(optimizer=keras.optimizers.Adam(learning_rate=0.001),\n",
        "              loss='binary_crossentropy',metrics=['Accuracy'])\n",
        "hist_2=ELM.fit(X,Y,epochs=50)"
      ],
      "metadata": {
        "colab": {
          "base_uri": "https://localhost:8080/"
        },
        "id": "gjs729LufvMq",
        "outputId": "38b62bf1-7df0-41ba-e931-f1918f2a1663"
      },
      "execution_count": null,
      "outputs": [
        {
          "output_type": "stream",
          "name": "stdout",
          "text": [
            "Epoch 1/50\n",
            "400/400 [==============================] - 91s 199ms/step - loss: 0.4024 - Accuracy: 0.8407\n",
            "Epoch 2/50\n",
            "400/400 [==============================] - 72s 180ms/step - loss: 0.1953 - Accuracy: 0.9207\n",
            "Epoch 3/50\n",
            "400/400 [==============================] - 65s 162ms/step - loss: 0.1512 - Accuracy: 0.9512\n",
            "Epoch 4/50\n",
            "400/400 [==============================] - 66s 166ms/step - loss: 0.1296 - Accuracy: 0.9616\n",
            "Epoch 5/50\n",
            "400/400 [==============================] - 67s 166ms/step - loss: 0.1124 - Accuracy: 0.9687\n",
            "Epoch 6/50\n",
            "400/400 [==============================] - 68s 170ms/step - loss: 0.1048 - Accuracy: 0.9677\n",
            "Epoch 7/50\n",
            "400/400 [==============================] - 69s 172ms/step - loss: 0.0973 - Accuracy: 0.9699\n",
            "Epoch 8/50\n",
            "400/400 [==============================] - 75s 188ms/step - loss: 0.0925 - Accuracy: 0.9701\n",
            "Epoch 9/50\n",
            "400/400 [==============================] - 95s 237ms/step - loss: 0.0877 - Accuracy: 0.9702\n",
            "Epoch 10/50\n",
            "400/400 [==============================] - 74s 184ms/step - loss: 0.0858 - Accuracy: 0.9695\n",
            "Epoch 11/50\n",
            "400/400 [==============================] - 69s 174ms/step - loss: 0.0830 - Accuracy: 0.9712\n",
            "Epoch 12/50\n",
            "400/400 [==============================] - 68s 170ms/step - loss: 0.0800 - Accuracy: 0.9713\n",
            "Epoch 13/50\n",
            "400/400 [==============================] - 55s 138ms/step - loss: 0.0807 - Accuracy: 0.9703\n",
            "Epoch 14/50\n",
            "400/400 [==============================] - 56s 139ms/step - loss: 0.0764 - Accuracy: 0.9716\n",
            "Epoch 15/50\n",
            "400/400 [==============================] - 57s 142ms/step - loss: 0.0737 - Accuracy: 0.9739\n",
            "Epoch 16/50\n",
            "400/400 [==============================] - 59s 148ms/step - loss: 0.0745 - Accuracy: 0.9722\n",
            "Epoch 17/50\n",
            "400/400 [==============================] - 54s 136ms/step - loss: 0.0725 - Accuracy: 0.9731\n",
            "Epoch 18/50\n",
            "400/400 [==============================] - 54s 134ms/step - loss: 0.0717 - Accuracy: 0.9730\n",
            "Epoch 19/50\n",
            "400/400 [==============================] - 54s 134ms/step - loss: 0.0709 - Accuracy: 0.9737\n",
            "Epoch 20/50\n",
            "400/400 [==============================] - 57s 143ms/step - loss: 0.0711 - Accuracy: 0.9722\n",
            "Epoch 21/50\n",
            "400/400 [==============================] - 53s 132ms/step - loss: 0.0695 - Accuracy: 0.9742\n",
            "Epoch 22/50\n",
            "400/400 [==============================] - 54s 135ms/step - loss: 0.0668 - Accuracy: 0.9745\n",
            "Epoch 23/50\n",
            "400/400 [==============================] - 56s 140ms/step - loss: 0.0686 - Accuracy: 0.9749\n",
            "Epoch 24/50\n",
            "400/400 [==============================] - 54s 136ms/step - loss: 0.0669 - Accuracy: 0.9738\n",
            "Epoch 25/50\n",
            "400/400 [==============================] - 61s 152ms/step - loss: 0.0671 - Accuracy: 0.9742\n",
            "Epoch 26/50\n",
            "400/400 [==============================] - 66s 165ms/step - loss: 0.0661 - Accuracy: 0.9750\n",
            "Epoch 27/50\n",
            "400/400 [==============================] - 63s 156ms/step - loss: 0.0638 - Accuracy: 0.9758\n",
            "Epoch 28/50\n",
            "400/400 [==============================] - 63s 157ms/step - loss: 0.0648 - Accuracy: 0.9755\n",
            "Epoch 29/50\n",
            "400/400 [==============================] - 60s 150ms/step - loss: 0.0625 - Accuracy: 0.9752\n",
            "Epoch 30/50\n",
            "400/400 [==============================] - 61s 152ms/step - loss: 0.0620 - Accuracy: 0.9770\n",
            "Epoch 31/50\n",
            "400/400 [==============================] - 61s 152ms/step - loss: 0.0651 - Accuracy: 0.9759\n",
            "Epoch 32/50\n",
            "400/400 [==============================] - 62s 154ms/step - loss: 0.0643 - Accuracy: 0.9750\n",
            "Epoch 33/50\n",
            "400/400 [==============================] - 59s 148ms/step - loss: 0.0625 - Accuracy: 0.9762\n",
            "Epoch 34/50\n",
            "400/400 [==============================] - 59s 148ms/step - loss: 0.0615 - Accuracy: 0.9766\n",
            "Epoch 35/50\n",
            "400/400 [==============================] - 61s 152ms/step - loss: 0.0667 - Accuracy: 0.9747\n",
            "Epoch 36/50\n",
            "400/400 [==============================] - 65s 162ms/step - loss: 0.0626 - Accuracy: 0.9750\n",
            "Epoch 37/50\n",
            "400/400 [==============================] - 60s 150ms/step - loss: 0.0607 - Accuracy: 0.9755\n",
            "Epoch 38/50\n",
            "400/400 [==============================] - 59s 148ms/step - loss: 0.0602 - Accuracy: 0.9769\n",
            "Epoch 39/50\n",
            "400/400 [==============================] - 59s 148ms/step - loss: 0.0616 - Accuracy: 0.9767\n",
            "Epoch 40/50\n",
            "400/400 [==============================] - 63s 159ms/step - loss: 0.0628 - Accuracy: 0.9761\n",
            "Epoch 41/50\n",
            "400/400 [==============================] - 62s 156ms/step - loss: 0.0615 - Accuracy: 0.9762\n",
            "Epoch 42/50\n",
            "400/400 [==============================] - 61s 153ms/step - loss: 0.0594 - Accuracy: 0.9782\n",
            "Epoch 43/50\n",
            "400/400 [==============================] - 64s 161ms/step - loss: 0.0594 - Accuracy: 0.9778\n",
            "Epoch 44/50\n",
            "400/400 [==============================] - 69s 172ms/step - loss: 0.0609 - Accuracy: 0.9768\n",
            "Epoch 45/50\n",
            "400/400 [==============================] - 67s 167ms/step - loss: 0.0621 - Accuracy: 0.9766\n",
            "Epoch 46/50\n",
            "400/400 [==============================] - 70s 174ms/step - loss: 0.0607 - Accuracy: 0.9773\n",
            "Epoch 47/50\n",
            "400/400 [==============================] - 75s 189ms/step - loss: 0.0588 - Accuracy: 0.9766\n",
            "Epoch 48/50\n",
            "400/400 [==============================] - 69s 172ms/step - loss: 0.0607 - Accuracy: 0.9757\n",
            "Epoch 49/50\n",
            "400/400 [==============================] - 69s 172ms/step - loss: 0.0627 - Accuracy: 0.9752\n",
            "Epoch 50/50\n",
            "400/400 [==============================] - 65s 162ms/step - loss: 0.0591 - Accuracy: 0.9774\n"
          ]
        }
      ]
    },
    {
      "cell_type": "code",
      "source": [
        "ELM.evaluate(x_test,y_test)"
      ],
      "metadata": {
        "colab": {
          "base_uri": "https://localhost:8080/"
        },
        "id": "7--WqcpyParK",
        "outputId": "c3eb1106-6210-4231-84e1-58ef5dccf9a8"
      },
      "execution_count": null,
      "outputs": [
        {
          "output_type": "stream",
          "name": "stdout",
          "text": [
            "100/100 [==============================] - 26s 215ms/step - loss: 0.0517 - Accuracy: 0.9825\n"
          ]
        },
        {
          "output_type": "execute_result",
          "data": {
            "text/plain": [
              "[0.05167084559798241, 0.9825000166893005]"
            ]
          },
          "metadata": {},
          "execution_count": 47
        }
      ]
    },
    {
      "cell_type": "code",
      "source": [
        "ELM.save('/content/drive/MyDrive/Crack detection/TLCTELMachines.h5')"
      ],
      "metadata": {
        "id": "GtvIBkmofvOy"
      },
      "execution_count": null,
      "outputs": []
    },
    {
      "cell_type": "code",
      "source": [
        "from sklearn.metrics import classification_report,confusion_matrix"
      ],
      "metadata": {
        "id": "7SD4AST9fvR1"
      },
      "execution_count": null,
      "outputs": []
    },
    {
      "cell_type": "code",
      "source": [
        "preds=ELM.predict(x_test)"
      ],
      "metadata": {
        "id": "KvxnuXUZQFdj"
      },
      "execution_count": null,
      "outputs": []
    },
    {
      "cell_type": "markdown",
      "source": [
        "Calssification report\n"
      ],
      "metadata": {
        "id": "OF7Qgg9HUjdY"
      }
    },
    {
      "cell_type": "code",
      "source": [
        "print(classification_report(y_test,np.round(preds)))"
      ],
      "metadata": {
        "colab": {
          "base_uri": "https://localhost:8080/"
        },
        "id": "7ZBrFJnBPYHM",
        "outputId": "7c2a2b46-627e-45d3-8589-5e1835e8cf7a"
      },
      "execution_count": null,
      "outputs": [
        {
          "output_type": "stream",
          "name": "stdout",
          "text": [
            "              precision    recall  f1-score   support\n",
            "\n",
            "         0.0       0.99      0.99      0.99      2668\n",
            "         1.0       0.94      0.95      0.95       532\n",
            "\n",
            "    accuracy                           0.98      3200\n",
            "   macro avg       0.97      0.97      0.97      3200\n",
            "weighted avg       0.98      0.98      0.98      3200\n",
            "\n"
          ]
        }
      ]
    },
    {
      "cell_type": "markdown",
      "source": [
        "Confusion matrix"
      ],
      "metadata": {
        "id": "A2PoolOxUp5n"
      }
    },
    {
      "cell_type": "code",
      "source": [
        "sns.heatmap(confusion_matrix(y_test,np.round(preds)),annot=True)"
      ],
      "metadata": {
        "colab": {
          "base_uri": "https://localhost:8080/",
          "height": 282
        },
        "id": "P3HcytQqP-7L",
        "outputId": "0d0f2298-f0ea-48b7-8eb1-a474ac7464c5"
      },
      "execution_count": null,
      "outputs": [
        {
          "output_type": "execute_result",
          "data": {
            "text/plain": [
              "<matplotlib.axes._subplots.AxesSubplot at 0x7f34f10b3110>"
            ]
          },
          "metadata": {},
          "execution_count": 55
        },
        {
          "output_type": "display_data",
          "data": {
            "text/plain": [
              "<Figure size 432x288 with 2 Axes>"
            ],
            "image/png": "[encoded data removed]"
          },
          "metadata": {
            "needs_background": "light"
          }
        }
      ]
    },
    {
      "cell_type": "markdown",
      "source": [
        "Loss and accuracy Graph"
      ],
      "metadata": {
        "id": "M4A7XnxWUt6k"
      }
    },
    {
      "cell_type": "code",
      "source": [
        "pd.DataFrame(hist_2.history).plot()\n",
        "plt.grid()\n",
        "plt.gca().set_ylim(0,1)\n",
        "plt.show()"
      ],
      "metadata": {
        "colab": {
          "base_uri": "https://localhost:8080/",
          "height": 269
        },
        "id": "2ap79c07QgL4",
        "outputId": "875a7576-dffa-4210-ca30-db3b1555a5b7"
      },
      "execution_count": null,
      "outputs": [
        {
          "output_type": "display_data",
          "data": {
            "text/plain": [
              "<Figure size 432x288 with 1 Axes>"
            ],
            "image/png": "[encoded data removed]"
          },
          "metadata": {
            "needs_background": "light"
          }
        }
      ]
    },
    {
      "cell_type": "code",
      "source": [
        ""
      ],
      "metadata": {
        "id": "cu5nQjv2cL3Z"
      },
      "execution_count": null,
      "outputs": []
    }
  ]
}